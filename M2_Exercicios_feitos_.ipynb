{
  "nbformat": 4,
  "nbformat_minor": 0,
  "metadata": {
    "colab": {
      "provenance": [],
      "toc_visible": true
    },
    "kernelspec": {
      "name": "python3",
      "display_name": "Python 3"
    }
  },
  "cells": [
    {
      "cell_type": "markdown",
      "metadata": {
        "id": "KJqp9AANOCtf"
      },
      "source": [
        "<img src=\"https://raw.githubusercontent.com/andre-marcos-perez/ebac-course-utils/main/media/logo/newebac_logo_black_half.png\" alt=\"ebac-logo\">\n",
        "\n",
        "---\n",
        "\n",
        "# **Módulo** | Python: Estruturas de Dados\n",
        "Caderno de **Exercícios**<br>\n",
        "Professor [André Perez](https://www.linkedin.com/in/andremarcosperez/)\n",
        "\n",
        "---"
      ]
    },
    {
      "cell_type": "markdown",
      "metadata": {
        "id": "d9jDtUbDOE1-"
      },
      "source": [
        "# **Tópicos**\n",
        "\n",
        "<ol type=\"1\">\n",
        "  <li>Listas;</li>\n",
        "  <li>Conjuntos;</li>\n",
        "  <li>Dicionários.</li>\n",
        "</ol>"
      ]
    },
    {
      "cell_type": "markdown",
      "metadata": {
        "id": "SmoHgt-lwkpD"
      },
      "source": [
        "---"
      ]
    },
    {
      "cell_type": "markdown",
      "metadata": {
        "id": "GABI6OW8OfQ2"
      },
      "source": [
        "# **Exercícios**"
      ]
    },
    {
      "cell_type": "markdown",
      "metadata": {
        "id": "muD1vxozykSC"
      },
      "source": [
        "## 1\\. Listas"
      ]
    },
    {
      "cell_type": "markdown",
      "metadata": {
        "id": "ahrFfCuBxJKs"
      },
      "source": [
        "Criei uma lista chamada `filmes` com o nome dos 10 primeiros filmes mais bem avaliados no site no [IMDB](https://www.imdb.com/chart/top/). Imprima o resultado."
      ]
    },
    {
      "cell_type": "code",
      "metadata": {
        "id": "OgL6Hv3bzOHI",
        "colab": {
          "base_uri": "https://localhost:8080/"
        },
        "outputId": "328cd392-d52e-403b-8560-88b6527e11b8"
      },
      "source": [
        "filmes = [\n",
        "    \"Um Sonho de Liberdade\",\n",
        "    \"O Poderoso Chefão\",\n",
        "    \"Batman: O Cavaleiro das Trevas\",\n",
        "    \"12 Homens e uma Sentença\",\n",
        "    \"A Lista de Schindler\",\n",
        "    \"O Senhor dos Anéis: O Retorno do Rei\",\n",
        "    \"Pulp Fiction: Tempo de Violência\",\n",
        "    \"O Silêncio dos Inocentes\",\n",
        "    \"Forrest Gump: O Contador de Histórias\",\n",
        "    \"A Origem\",\n",
        "]\n",
        "print(filmes)\n"
      ],
      "execution_count": 7,
      "outputs": [
        {
          "output_type": "stream",
          "name": "stdout",
          "text": [
            "['Um Sonho de Liberdade', 'O Poderoso Chefão', 'Batman: O Cavaleiro das Trevas', '12 Homens e uma Sentença', 'A Lista de Schindler', 'O Senhor dos Anéis: O Retorno do Rei', 'Pulp Fiction: Tempo de Violência', 'O Silêncio dos Inocentes', 'Forrest Gump: O Contador de Histórias', 'A Origem']\n"
          ]
        }
      ]
    },
    {
      "cell_type": "markdown",
      "metadata": {
        "id": "KI9zQRT2xa7m"
      },
      "source": [
        "Simule a movimentação do *ranking*. Utilize os métodos `insert` e `pop` para trocar a posição do primeiro e do segundo filme da lista. Imprima o resultado.\n",
        "\n"
      ]
    },
    {
      "cell_type": "code",
      "metadata": {
        "id": "zX3mA3_GzrXH",
        "colab": {
          "base_uri": "https://localhost:8080/"
        },
        "outputId": "6324f98f-4e00-4fe5-b227-a1bcacda406a"
      },
      "source": [
        "print(f'ranking antes :{filmes}')\n",
        "filmes.pop(0)\n",
        "filmes.insert(1, \"Um Sonho de Liberdade\")\n",
        "print(f'ranking depois : {filmes}')\n"
      ],
      "execution_count": 8,
      "outputs": [
        {
          "output_type": "stream",
          "name": "stdout",
          "text": [
            "ranking antes :['Um Sonho de Liberdade', 'O Poderoso Chefão', 'Batman: O Cavaleiro das Trevas', '12 Homens e uma Sentença', 'A Lista de Schindler', 'O Senhor dos Anéis: O Retorno do Rei', 'Pulp Fiction: Tempo de Violência', 'O Silêncio dos Inocentes', 'Forrest Gump: O Contador de Histórias', 'A Origem']\n",
            "ranking depois : ['O Poderoso Chefão', 'Um Sonho de Liberdade', 'Batman: O Cavaleiro das Trevas', '12 Homens e uma Sentença', 'A Lista de Schindler', 'O Senhor dos Anéis: O Retorno do Rei', 'Pulp Fiction: Tempo de Violência', 'O Silêncio dos Inocentes', 'Forrest Gump: O Contador de Histórias', 'A Origem']\n"
          ]
        }
      ]
    },
    {
      "cell_type": "markdown",
      "metadata": {
        "id": "zMN1Q3jdwoJm"
      },
      "source": [
        "---"
      ]
    },
    {
      "cell_type": "markdown",
      "metadata": {
        "id": "lxa5L6uF0ZJE"
      },
      "source": [
        "## 2\\. Conjuntos"
      ]
    },
    {
      "cell_type": "markdown",
      "metadata": {
        "id": "9JahS2Kj0d5u"
      },
      "source": [
        "Aconteceu um erro no seu *ranking*. Simule a duplicação dos três últimos filmes da lista. Imprima o resultado."
      ]
    },
    {
      "cell_type": "code",
      "metadata": {
        "id": "BnjnLBNC6PGe",
        "colab": {
          "base_uri": "https://localhost:8080/"
        },
        "outputId": "c42ef2f5-c4e8-40b1-c82c-3fd31a97975f"
      },
      "source": [
        "filmes = [\n",
        "    \"Um Sonho de Liberdade\",\n",
        "    \"O Poderoso Chefão\",\n",
        "    \"Batman: O Cavaleiro das Trevas\",\n",
        "    \"12 Homens e uma Sentença\",\n",
        "    \"A Lista de Schindler\",\n",
        "    \"O Senhor dos Anéis: O Retorno do Rei\",\n",
        "    \"Pulp Fiction: Tempo de Violência\",\n",
        "    \"O Silêncio dos Inocentes\",\n",
        "    \"O Silêncio dos Inocentes\",\n",
        "    \"Forrest Gump: O Contador de Histórias\",\n",
        "    \"Forrest Gump: O Contador de Histórias\",\n",
        "    \"A Origem\",\n",
        "    \"A Origem\",\n",
        "]\n",
        "print(filmes)"
      ],
      "execution_count": 9,
      "outputs": [
        {
          "output_type": "stream",
          "name": "stdout",
          "text": [
            "['Um Sonho de Liberdade', 'O Poderoso Chefão', 'Batman: O Cavaleiro das Trevas', '12 Homens e uma Sentença', 'A Lista de Schindler', 'O Senhor dos Anéis: O Retorno do Rei', 'Pulp Fiction: Tempo de Violência', 'O Silêncio dos Inocentes', 'O Silêncio dos Inocentes', 'Forrest Gump: O Contador de Histórias', 'Forrest Gump: O Contador de Histórias', 'A Origem', 'A Origem']\n"
          ]
        }
      ]
    },
    {
      "cell_type": "markdown",
      "metadata": {
        "id": "suxTfCJB6ZiX"
      },
      "source": [
        "Utiliza a conversão `set` e `list` para remover os valores duplicados. Imprima o resultado."
      ]
    },
    {
      "cell_type": "code",
      "metadata": {
        "id": "ZvUGN-0n6joM",
        "colab": {
          "base_uri": "https://localhost:8080/"
        },
        "outputId": "a95f880a-007b-44da-ffce-fa526ec11b9d"
      },
      "source": [
        "print(filmes)\n",
        "filmes = list(set(filmes))\n",
        "print(filmes)\n"
      ],
      "execution_count": 10,
      "outputs": [
        {
          "output_type": "stream",
          "name": "stdout",
          "text": [
            "['Um Sonho de Liberdade', 'O Poderoso Chefão', 'Batman: O Cavaleiro das Trevas', '12 Homens e uma Sentença', 'A Lista de Schindler', 'O Senhor dos Anéis: O Retorno do Rei', 'Pulp Fiction: Tempo de Violência', 'O Silêncio dos Inocentes', 'O Silêncio dos Inocentes', 'Forrest Gump: O Contador de Histórias', 'Forrest Gump: O Contador de Histórias', 'A Origem', 'A Origem']\n",
            "['Pulp Fiction: Tempo de Violência', 'O Silêncio dos Inocentes', 'Batman: O Cavaleiro das Trevas', '12 Homens e uma Sentença', 'A Origem', 'Forrest Gump: O Contador de Histórias', 'O Senhor dos Anéis: O Retorno do Rei', 'O Poderoso Chefão', 'A Lista de Schindler', 'Um Sonho de Liberdade']\n"
          ]
        }
      ]
    },
    {
      "cell_type": "code",
      "source": [
        "print(len(filmes))"
      ],
      "metadata": {
        "colab": {
          "base_uri": "https://localhost:8080/"
        },
        "id": "Tpl3wUiLWCNA",
        "outputId": "3c7bda71-adf8-4749-d7ab-714fdf6fb887"
      },
      "execution_count": 11,
      "outputs": [
        {
          "output_type": "stream",
          "name": "stdout",
          "text": [
            "10\n"
          ]
        }
      ]
    },
    {
      "cell_type": "markdown",
      "metadata": {
        "id": "ShkK35eQ6pAM"
      },
      "source": [
        "---"
      ]
    },
    {
      "cell_type": "markdown",
      "metadata": {
        "id": "EL_FzmxL6rTv"
      },
      "source": [
        "## 3\\. Dicionários"
      ]
    },
    {
      "cell_type": "markdown",
      "metadata": {
        "id": "i8l0gFqRCpfT"
      },
      "source": [
        "Repita os exercícios da parte 1 (listas). Os elementos da lista `filmes` devem ser dicionários no seguinte formato: `{'nome': <nome-do-filme>, 'ano': <ano do filme>, 'sinopse': <sinopse do filme>}`."
      ]
    },
    {
      "cell_type": "code",
      "source": [
        "filmes = [\n",
        "    {'nome': 'Um Sonho de Liberdade', 'ano': 1994, 'sinopse': 'Dois homens encontram a esperança e a amizade em uma prisão'},\n",
        "    {'nome': 'O Poderoso Chefão', 'ano': 1972, 'sinopse': 'A história de uma família de mafiosos em Nova York'},\n",
        "    {'nome': 'Batman: O Cavaleiro das Trevas', 'ano': 2008, 'sinopse': 'Batman enfrenta o Coringa, um vilão psicopata'},\n",
        "    {'nome': '12 Homens e uma Sentença', 'ano': 1957, 'sinopse': 'Doze jurados tentam decidir se um homem é culpado ou inocente de assassinato'},\n",
        "    {'nome': 'A Lista de Schindler', 'ano': 1993, 'sinopse': 'Um empresário alemão salva centenas de judeus durante o Holocausto'},\n",
        "    {'nome': 'O Senhor dos Anéis: O Retorno do Rei', 'ano': 2003, 'sinopse': 'A conclusão da trilogia O Senhor dos Anéis'},\n",
        "    {'nome': 'Pulp Fiction: Tempo de Violência', 'ano': 1994, 'sinopse': 'Várias histórias de violência entrelaçadas em Los Angeles'},\n",
        "    {'nome': 'O Silêncio dos Inocentes', 'ano': 1991, 'sinopse': 'Uma agente do FBI pede ajuda a um psiquiatra para capturar um serial killer'},\n",
        "    {'nome': 'Forrest Gump: O Contador de Histórias', 'ano': 1994, 'sinopse': 'A história de um homem com deficiência mental que vive grandes momentos da história americana'},\n",
        "    {'nome': 'A Origem', 'ano': 2010, 'sinopse': 'Um grupo de ladrões usa tecnologia para invadir os sonhos das pessoas e roubar informações'},\n",
        "]\n",
        "print(filmes)"
      ],
      "metadata": {
        "colab": {
          "base_uri": "https://localhost:8080/"
        },
        "id": "NXf8EfPRYQ5y",
        "outputId": "1bd47fac-0f3a-4ce9-e090-55ca2841c8b1"
      },
      "execution_count": 15,
      "outputs": [
        {
          "output_type": "stream",
          "name": "stdout",
          "text": [
            "[{'nome': 'Um Sonho de Liberdade', 'ano': 1994, 'sinopse': 'Dois homens encontram a esperança e a amizade em uma prisão'}, {'nome': 'O Poderoso Chefão', 'ano': 1972, 'sinopse': 'A história de uma família de mafiosos em Nova York'}, {'nome': 'Batman: O Cavaleiro das Trevas', 'ano': 2008, 'sinopse': 'Batman enfrenta o Coringa, um vilão psicopata'}, {'nome': '12 Homens e uma Sentença', 'ano': 1957, 'sinopse': 'Doze jurados tentam decidir se um homem é culpado ou inocente de assassinato'}, {'nome': 'A Lista de Schindler', 'ano': 1993, 'sinopse': 'Um empresário alemão salva centenas de judeus durante o Holocausto'}, {'nome': 'O Senhor dos Anéis: O Retorno do Rei', 'ano': 2003, 'sinopse': 'A conclusão da trilogia O Senhor dos Anéis'}, {'nome': 'Pulp Fiction: Tempo de Violência', 'ano': 1994, 'sinopse': 'Várias histórias de violência entrelaçadas em Los Angeles'}, {'nome': 'O Silêncio dos Inocentes', 'ano': 1991, 'sinopse': 'Uma agente do FBI pede ajuda a um psiquiatra para capturar um serial killer'}, {'nome': 'Forrest Gump: O Contador de Histórias', 'ano': 1994, 'sinopse': 'A história de um homem com deficiência mental que vive grandes momentos da história americana'}, {'nome': 'A Origem', 'ano': 2010, 'sinopse': 'Um grupo de ladrões usa tecnologia para invadir os sonhos das pessoas e roubar informações'}]\n"
          ]
        }
      ]
    }
  ]
}